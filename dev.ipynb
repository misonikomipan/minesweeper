{
 "cells": [
  {
   "attachments": {},
   "cell_type": "markdown",
   "metadata": {},
   "source": [
    "# マインスイーパー"
   ]
  },
  {
   "cell_type": "code",
   "execution_count": 34,
   "metadata": {},
   "outputs": [],
   "source": [
    "import random"
   ]
  },
  {
   "cell_type": "code",
   "execution_count": 62,
   "metadata": {},
   "outputs": [],
   "source": [
    "# Gridオブジェクト\n",
    "\n",
    "# 爆弾かどうか bool\n",
    "# 周りの爆弾の数 uint\n",
    "# フラグ立てたかどうか bool\n",
    "# 開いたかどうか bool\n",
    "class Grid:\n",
    "    def __init__(self) -> None:\n",
    "        self.isBomb = False\n",
    "        self.isOpen = False\n",
    "        self.isFrag = False\n",
    "        self.nAroundBomb = 0\n",
    "    \n",
    "    def __str__(self):\n",
    "        # print(obj)での出力\n",
    "        state = \"#\" if self.isBomb else self.nAroundBomb\n",
    "        return f\"{state}\""
   ]
  },
  {
   "cell_type": "code",
   "execution_count": 63,
   "metadata": {},
   "outputs": [],
   "source": [
    "# MineSweeperオブジェクト\n",
    "# ゲーム用オブジェクト\n",
    "class MineSweeper:\n",
    "    def __init__(self, nRow, nCol, nBomb, isDebug = True) -> None:\n",
    "        self.nRow = nRow\n",
    "        self.nCol = nCol\n",
    "        self.nSize = self.nRow * self.nCol\n",
    "        self.board = [[Grid() for iCol in range(nCol)] for iRow in range(nRow)]\n",
    "        self.nBomb = nBomb\n",
    "        self.bombPosList = self.setBomb()\n",
    "        self.calcAroundBombs()\n",
    "        # デバッグ用\n",
    "        if isDebug:\n",
    "            self.debug()\n",
    "        else:\n",
    "            pass\n",
    "\n",
    "    def __str__(self):\n",
    "        return f\"{self.nBomb}\"\n",
    "            \n",
    "    def debug(self):\n",
    "        print(self.bombPosList)\n",
    "        for r in range(self.nRow):\n",
    "            for c in range(self.nCol):\n",
    "                print(self.board[r][c], end = \" \")\n",
    "            print()\n",
    "    \n",
    "    def setBomb(self):\n",
    "        # 爆弾座標の決定\n",
    "        bombPosList1d = random.sample(range(self.nSize), k=self.nBomb)\n",
    "        bomPosList2d = tuple(map(divmod, bombPosList1d, [self.nCol for iBomb in range(self.nBomb)])) # (r, c)\n",
    "        # 盤面に反映\n",
    "        # TODO: for文を排除 \n",
    "        for (r, c) in bomPosList2d: \n",
    "            self.board[r][c].isBomb = True\n",
    "        \n",
    "        return bomPosList2d\n",
    "\n",
    "    def calcAroundBombs(self):\n",
    "        for (r, c) in self.bombPosList:\n",
    "            for dr in range(-1, 2): # [-1, 1]\n",
    "                for dc in range(-1, 2): # [-1, 1]\n",
    "                    nr, nc = r + dr, c + dc\n",
    "                    if (0 <= nr < self.nRow) and (0 <= nc < self.nCol): # 枠内だよ\n",
    "                        self.board[nr][nc].nAroundBomb += 1\n",
    "                    else:\n",
    "                        continue"
   ]
  },
  {
   "cell_type": "code",
   "execution_count": 65,
   "metadata": {},
   "outputs": [
    {
     "name": "stdout",
     "output_type": "stream",
     "text": [
      "((12, 5), (2, 9), (10, 0), (3, 6), (5, 8), (6, 3), (7, 1), (7, 5), (19, 7), (16, 2), (4, 0), (15, 6), (9, 4), (0, 4), (16, 1), (15, 8), (14, 4), (19, 3), (12, 4), (8, 5), (9, 3), (1, 3), (6, 1), (16, 7), (7, 9), (1, 4), (19, 0), (5, 4), (17, 4), (17, 8), (13, 2), (17, 7), (5, 9), (5, 0), (0, 5), (1, 2), (3, 4), (13, 3), (13, 0), (10, 1), (13, 7), (7, 4), (6, 7), (3, 3), (18, 8), (3, 0), (0, 8), (12, 1), (2, 6), (1, 0), (11, 8), (0, 1), (6, 2), (16, 5), (10, 2), (17, 3), (19, 6), (6, 5), (10, 9), (14, 9), (7, 6), (17, 1), (11, 1), (18, 1), (7, 8), (2, 4), (18, 5), (5, 3), (9, 9), (9, 5), (16, 3), (7, 0), (8, 8), (5, 2), (19, 9), (8, 0), (14, 3), (16, 4), (16, 6), (0, 3), (8, 6), (4, 8), (4, 6), (19, 4), (3, 1), (7, 2), (2, 8), (11, 3), (1, 8), (10, 7), (15, 4), (2, 2), (4, 7), (16, 9), (10, 8), (3, 2), (13, 4), (3, 5), (2, 0), (12, 6))\n",
      "2 # 4 # # # 1 2 # 2 \n",
      "# 5 # # # 5 2 4 # 4 \n",
      "# 7 # 8 # 6 # 4 # # \n",
      "# # # # # # # 6 4 3 \n",
      "# 6 5 6 5 5 # # # 3 \n",
      "# 5 # # # 3 4 5 # # \n",
      "4 # # # 6 # 4 # 5 4 \n",
      "# # # 4 # # # 5 # # \n",
      "# 4 3 4 6 # # 4 # 4 \n",
      "3 4 3 # # # 4 4 5 # \n",
      "# # # 4 4 2 2 # # # \n",
      "4 # 5 # 3 3 3 4 # 3 \n",
      "3 # 5 5 # # # 3 2 1 \n",
      "# 3 # # # 5 3 # 2 1 \n",
      "1 2 3 # # 4 2 3 3 # \n",
      "1 2 4 6 # 6 # 4 # 3 \n",
      "2 # # # # # # # 5 # \n",
      "3 # 6 # # 5 5 # # 3 \n",
      "3 # 4 4 5 # 4 5 # 3 \n",
      "# 2 2 # # 3 # # 3 # \n"
     ]
    },
    {
     "data": {
      "text/plain": [
       "<__main__.MineSweeper at 0x1b39fd88d60>"
      ]
     },
     "execution_count": 65,
     "metadata": {},
     "output_type": "execute_result"
    }
   ],
   "source": [
    "MineSweeper(20, 10, 100)"
   ]
  }
 ],
 "metadata": {
  "kernelspec": {
   "display_name": "Python 3",
   "language": "python",
   "name": "python3"
  },
  "language_info": {
   "codemirror_mode": {
    "name": "ipython",
    "version": 3
   },
   "file_extension": ".py",
   "mimetype": "text/x-python",
   "name": "python",
   "nbconvert_exporter": "python",
   "pygments_lexer": "ipython3",
   "version": "3.8.8"
  },
  "orig_nbformat": 4
 },
 "nbformat": 4,
 "nbformat_minor": 2
}
