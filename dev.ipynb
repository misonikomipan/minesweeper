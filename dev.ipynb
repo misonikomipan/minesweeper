{
 "cells": [
  {
   "attachments": {},
   "cell_type": "markdown",
   "metadata": {},
   "source": [
    "# マインスイーパー"
   ]
  },
  {
   "cell_type": "code",
   "execution_count": 27,
   "metadata": {},
   "outputs": [],
   "source": [
    "import random\n",
    "import sys"
   ]
  },
  {
   "cell_type": "code",
   "execution_count": 8,
   "metadata": {},
   "outputs": [],
   "source": [
    "# Gridオブジェクト\n",
    "\n",
    "# 爆弾かどうか bool\n",
    "# 周りの爆弾の数 uint\n",
    "# フラグ立てたかどうか bool\n",
    "# 開いたかどうか bool\n",
    "class Grid:\n",
    "    def __init__(self) -> None:\n",
    "        self.isBomb = False\n",
    "        self.isOpen = False\n",
    "        self.isFrag = False\n",
    "        self.nAroundBomb = 0\n",
    "    \n",
    "    def __str__(self):\n",
    "        # print(obj)での出力\n",
    "        state = (\"#\" if self.isBomb else self.nAroundBomb) if self.isOpen else \".\"\n",
    "        return f\"{state}\""
   ]
  },
  {
   "cell_type": "code",
   "execution_count": 14,
   "metadata": {},
   "outputs": [],
   "source": [
    "# MineSweeperオブジェクト\n",
    "# ゲーム用オブジェクト\n",
    "class MineSweeper:\n",
    "    def __init__(self, nRow, nCol, nBomb, isDebug = True) -> None:\n",
    "        self.nRow = nRow\n",
    "        self.nCol = nCol\n",
    "        self.nSize = self.nRow * self.nCol\n",
    "        self.board = [[Grid() for iCol in range(nCol)] for iRow in range(nRow)]\n",
    "        self.nBomb = nBomb\n",
    "        self.isPlay = True\n",
    "        self.bombPosList = self.setBomb()\n",
    "        self.calcAroundBombs()\n",
    "        # デバッグ用\n",
    "        if isDebug:\n",
    "            self.debug()\n",
    "        else:\n",
    "            pass\n",
    "\n",
    "    def __str__(self):\n",
    "        return f\"{self.nBomb}\"\n",
    "            \n",
    "    def debug(self):\n",
    "        print(self.bombPosList)\n",
    "        for r in range(self.nRow):\n",
    "            for c in range(self.nCol):\n",
    "                print(self.board[r][c], end = \" \")\n",
    "            print()\n",
    "    \n",
    "    def setBomb(self):\n",
    "        # 爆弾座標の決定\n",
    "        bombPosList1d = random.sample(range(self.nSize), k=self.nBomb)\n",
    "        bomPosList2d = tuple(map(divmod, bombPosList1d, [self.nCol for iBomb in range(self.nBomb)])) # (r, c)\n",
    "        # 盤面に反映\n",
    "        # TODO: for文を排除 \n",
    "        for (r, c) in bomPosList2d: \n",
    "            self.board[r][c].isBomb = True\n",
    "        \n",
    "        return bomPosList2d\n",
    "\n",
    "    def calcAroundBombs(self):\n",
    "        for (r, c) in self.bombPosList:\n",
    "            for dr in range(-1, 2): # [-1, 1]\n",
    "                for dc in range(-1, 2): # [-1, 1]\n",
    "                    nr, nc = r + dr, c + dc\n",
    "                    if (0 <= nr < self.nRow) and (0 <= nc < self.nCol): # 枠内だよ\n",
    "                        self.board[nr][nc].nAroundBomb += 1\n",
    "                    else:\n",
    "                        continue\n",
    "    \n",
    "    def openGrid(self, iRow, iCol):\n",
    "        self.board[iRow][iCol].isOpen = True\n",
    "        if self.board[iRow][iCol].nAroundBomb == 0:\n",
    "            for dr in range(-1, 2): # [-1, 1]\n",
    "                for dc in range(-1, 2): # [-1, 1]\n",
    "                    nr, nc = iRow + dr, iCol + dc\n",
    "                    if (0 <= nr < self.nRow) and (0 <= nc < self.nCol): # 枠内だよ\n",
    "                        if self.board[nr][nc].isOpen:\n",
    "                            continue\n",
    "                        else:\n",
    "                            self.openGrid(nr, nc)\n",
    "                    else:\n",
    "                        continue\n",
    "    \n",
    "    def judgeIsLose(self):\n",
    "        currentNBombOpen = sum([sum([(boardElement.isOpen and boardElement.isBomb) for boardElement in boardRow]) for boardRow in self.board])\n",
    "        if currentNBombOpen > self.nBomb:\n",
    "            raise ValueError(\"爆弾の数が合わないよ\")\n",
    "        else:\n",
    "            return bool(currentNBombOpen)\n",
    "\n",
    "    def judgeIsWin(self):\n",
    "        # 敗北判定の後にやらないかん\n",
    "        requiredNOpen = self.nSize - self.nBomb\n",
    "        currentNOpen = sum([sum([boardElement.isOpen for boardElement in boardRow]) for boardRow in self.board])\n",
    "        \n",
    "        if requiredNOpen - currentNOpen < 0:\n",
    "            raise ValueError(\"爆弾の数が合わないよ\")\n",
    "        elif requiredNOpen - currentNOpen == 0:\n",
    "            return True\n",
    "        else:\n",
    "            return False\n",
    "    "
   ]
  },
  {
   "cell_type": "code",
   "execution_count": 25,
   "metadata": {},
   "outputs": [],
   "source": [
    "def deleteConsole(nRow):\n",
    "    # N行上にカーソルを移動\n",
    "    sys.stdout.write(f\"\\033[{nRow}A\")\n",
    "    # そこからすべてを削除\n",
    "    sys.stdout.write(\"\\033[0J\")"
   ]
  },
  {
   "cell_type": "code",
   "execution_count": 29,
   "metadata": {},
   "outputs": [
    {
     "name": "stdout",
     "output_type": "stream",
     "text": [
      "((16, 5), (11, 5), (18, 2), (2, 8), (6, 8), (2, 3), (10, 0), (13, 5), (4, 8), (7, 2))\n",
      ". . . . . . . . . . \n",
      ". . . . . . . . . . \n",
      ". . . . . . . . . . \n",
      ". . . . . . . . . . \n",
      ". . . . . . . . . . \n",
      ". . . . . . . . . . \n",
      ". . . . . . . . . . \n",
      ". . . . . . . . . . \n",
      ". . . . . . . . . . \n",
      ". . . . . . . . . . \n",
      ". . . . . . . . . . \n",
      ". . . . . . . . . . \n",
      ". . . . . . . . . . \n",
      ". . . . . . . . . . \n",
      ". . . . . . . . . . \n",
      ". . . . . . . . . . \n",
      ". . . . . . . . . . \n",
      ". . . . . . . . . . \n",
      ". . . . . . . . . . \n",
      ". . . . . . . . . . \n"
     ]
    },
    {
     "ename": "ValueError",
     "evalue": "not enough values to unpack (expected 2, got 0)",
     "output_type": "error",
     "traceback": [
      "\u001b[1;31m---------------------------------------------------------------------------\u001b[0m",
      "\u001b[1;31mValueError\u001b[0m                                Traceback (most recent call last)",
      "\u001b[1;32mc:\\Users\\y-mizobuchi\\Documents\\myApps\\minesweeper\\dev.ipynb Cell 6\u001b[0m in \u001b[0;36m<cell line: 2>\u001b[1;34m()\u001b[0m\n\u001b[0;32m      <a href='vscode-notebook-cell:/c%3A/Users/y-mizobuchi/Documents/myApps/minesweeper/dev.ipynb#X16sZmlsZQ%3D%3D?line=2'>3</a>\u001b[0m isValidGrid \u001b[39m=\u001b[39m \u001b[39mFalse\u001b[39;00m\n\u001b[0;32m      <a href='vscode-notebook-cell:/c%3A/Users/y-mizobuchi/Documents/myApps/minesweeper/dev.ipynb#X16sZmlsZQ%3D%3D?line=3'>4</a>\u001b[0m \u001b[39mwhile\u001b[39;00m \u001b[39mnot\u001b[39;00m(isValidGrid):\n\u001b[1;32m----> <a href='vscode-notebook-cell:/c%3A/Users/y-mizobuchi/Documents/myApps/minesweeper/dev.ipynb#X16sZmlsZQ%3D%3D?line=4'>5</a>\u001b[0m     iRow, iCol \u001b[39m=\u001b[39m \u001b[39mmap\u001b[39m(\u001b[39mint\u001b[39m, \u001b[39minput\u001b[39m(\u001b[39m\"\u001b[39m\u001b[39m行・列番号を空白区切りで入力\u001b[39m\u001b[39m\"\u001b[39m)\u001b[39m.\u001b[39msplit())\n\u001b[0;32m      <a href='vscode-notebook-cell:/c%3A/Users/y-mizobuchi/Documents/myApps/minesweeper/dev.ipynb#X16sZmlsZQ%3D%3D?line=5'>6</a>\u001b[0m     isValidGrid \u001b[39m=\u001b[39m (\u001b[39m0\u001b[39m \u001b[39m<\u001b[39m\u001b[39m=\u001b[39m iRow \u001b[39m<\u001b[39m game\u001b[39m.\u001b[39mnRow) \u001b[39mand\u001b[39;00m (\u001b[39m0\u001b[39m \u001b[39m<\u001b[39m\u001b[39m=\u001b[39m iCol \u001b[39m<\u001b[39m game\u001b[39m.\u001b[39mnCol)\n\u001b[0;32m      <a href='vscode-notebook-cell:/c%3A/Users/y-mizobuchi/Documents/myApps/minesweeper/dev.ipynb#X16sZmlsZQ%3D%3D?line=6'>7</a>\u001b[0m \u001b[39m# マス開ける\u001b[39;00m\n",
      "\u001b[1;31mValueError\u001b[0m: not enough values to unpack (expected 2, got 0)"
     ]
    }
   ],
   "source": [
    "game = MineSweeper(20, 10, 10)\n",
    "while game.isPlay:\n",
    "    isValidGrid = False\n",
    "    while not(isValidGrid):\n",
    "        iRow, iCol = map(int, input(\"行・列番号を空白区切りで入力\").split())\n",
    "        isValidGrid = (0 <= iRow < game.nRow) and (0 <= iCol < game.nCol)\n",
    "    # マス開ける\n",
    "    game.openGrid(iRow, iCol)\n",
    "    deleteConsole(100)\n",
    "    game.debug()\n",
    "    # 敗北判定\n",
    "    if game.judgeIsLose():\n",
    "        print(\"敗北！\")\n",
    "        game.isPlay = False\n",
    "    # 勝利判定\n",
    "    if game.isPlay and game.judgeIsWin():\n",
    "        print(\"勝利！\")\n",
    "        game.isPlay = False"
   ]
  }
 ],
 "metadata": {
  "kernelspec": {
   "display_name": "Python 3",
   "language": "python",
   "name": "python3"
  },
  "language_info": {
   "codemirror_mode": {
    "name": "ipython",
    "version": 3
   },
   "file_extension": ".py",
   "mimetype": "text/x-python",
   "name": "python",
   "nbconvert_exporter": "python",
   "pygments_lexer": "ipython3",
   "version": "3.8.8"
  },
  "orig_nbformat": 4
 },
 "nbformat": 4,
 "nbformat_minor": 2
}
