{
 "cells": [
  {
   "attachments": {},
   "cell_type": "markdown",
   "metadata": {},
   "source": [
    "# マインスイーパー"
   ]
  },
  {
   "cell_type": "code",
   "execution_count": 7,
   "metadata": {},
   "outputs": [],
   "source": [
    "import random"
   ]
  },
  {
   "cell_type": "code",
   "execution_count": 8,
   "metadata": {},
   "outputs": [],
   "source": [
    "# Gridオブジェクト\n",
    "\n",
    "# 爆弾かどうか bool\n",
    "# 周りの爆弾の数 uint\n",
    "# フラグ立てたかどうか bool\n",
    "# 開いたかどうか bool\n",
    "class Grid:\n",
    "    def __init__(self) -> None:\n",
    "        self.isBomb = False\n",
    "        self.isOpen = False\n",
    "        self.isFrag = False\n",
    "        self.nAroundBomb = 0\n",
    "    \n",
    "    def __str__(self):\n",
    "        # print(obj)での出力\n",
    "        state = (\"#\" if self.isBomb else self.nAroundBomb) if self.isOpen else \".\"\n",
    "        return f\"{state}\""
   ]
  },
  {
   "cell_type": "code",
   "execution_count": 14,
   "metadata": {},
   "outputs": [],
   "source": [
    "# MineSweeperオブジェクト\n",
    "# ゲーム用オブジェクト\n",
    "class MineSweeper:\n",
    "    def __init__(self, nRow, nCol, nBomb, isDebug = True) -> None:\n",
    "        self.nRow = nRow\n",
    "        self.nCol = nCol\n",
    "        self.nSize = self.nRow * self.nCol\n",
    "        self.board = [[Grid() for iCol in range(nCol)] for iRow in range(nRow)]\n",
    "        self.nBomb = nBomb\n",
    "        self.isPlay = True\n",
    "        self.bombPosList = self.setBomb()\n",
    "        self.calcAroundBombs()\n",
    "        # デバッグ用\n",
    "        if isDebug:\n",
    "            self.debug()\n",
    "        else:\n",
    "            pass\n",
    "\n",
    "    def __str__(self):\n",
    "        return f\"{self.nBomb}\"\n",
    "            \n",
    "    def debug(self):\n",
    "        print(self.bombPosList)\n",
    "        for r in range(self.nRow):\n",
    "            for c in range(self.nCol):\n",
    "                print(self.board[r][c], end = \" \")\n",
    "            print()\n",
    "    \n",
    "    def setBomb(self):\n",
    "        # 爆弾座標の決定\n",
    "        bombPosList1d = random.sample(range(self.nSize), k=self.nBomb)\n",
    "        bomPosList2d = tuple(map(divmod, bombPosList1d, [self.nCol for iBomb in range(self.nBomb)])) # (r, c)\n",
    "        # 盤面に反映\n",
    "        # TODO: for文を排除 \n",
    "        for (r, c) in bomPosList2d: \n",
    "            self.board[r][c].isBomb = True\n",
    "        \n",
    "        return bomPosList2d\n",
    "\n",
    "    def calcAroundBombs(self):\n",
    "        for (r, c) in self.bombPosList:\n",
    "            for dr in range(-1, 2): # [-1, 1]\n",
    "                for dc in range(-1, 2): # [-1, 1]\n",
    "                    nr, nc = r + dr, c + dc\n",
    "                    if (0 <= nr < self.nRow) and (0 <= nc < self.nCol): # 枠内だよ\n",
    "                        self.board[nr][nc].nAroundBomb += 1\n",
    "                    else:\n",
    "                        continue\n",
    "    \n",
    "    def openGrid(self, iRow, iCol):\n",
    "        self.board[iRow][iCol].isOpen = True\n",
    "        if self.board[iRow][iCol].nAroundBomb == 0:\n",
    "            for dr in range(-1, 2): # [-1, 1]\n",
    "                for dc in range(-1, 2): # [-1, 1]\n",
    "                    nr, nc = iRow + dr, iCol + dc\n",
    "                    if (0 <= nr < self.nRow) and (0 <= nc < self.nCol): # 枠内だよ\n",
    "                        if self.board[nr][nc].isOpen:\n",
    "                            continue\n",
    "                        else:\n",
    "                            self.openGrid(nr, nc)\n",
    "                    else:\n",
    "                        continue\n",
    "    \n",
    "    def judgeIsLose(self):\n",
    "        currentNBombOpen = sum([sum([(boardElement.isOpen and boardElement.isBomb) for boardElement in boardRow]) for boardRow in self.board])\n",
    "        if currentNBombOpen > self.nBomb:\n",
    "            raise ValueError(\"爆弾の数が合わないよ\")\n",
    "        else:\n",
    "            return bool(currentNBombOpen)\n",
    "\n",
    "    def judgeIsWin(self):\n",
    "        # 敗北判定の後にやらないかん\n",
    "        requiredNOpen = self.nSize - self.nBomb\n",
    "        currentNOpen = sum([sum([boardElement.isOpen for boardElement in boardRow]) for boardRow in self.board])\n",
    "        \n",
    "        if requiredNOpen - currentNOpen < 0:\n",
    "            raise ValueError(\"爆弾の数が合わないよ\")\n",
    "        elif requiredNOpen - currentNOpen == 0:\n",
    "            return True\n",
    "        else:\n",
    "            return False\n",
    "    "
   ]
  },
  {
   "cell_type": "code",
   "execution_count": 20,
   "metadata": {},
   "outputs": [
    {
     "name": "stdout",
     "output_type": "stream",
     "text": [
      "((5, 3), (17, 9), (18, 6), (11, 6), (14, 0), (17, 2), (9, 4), (9, 2), (10, 7), (2, 7))\n",
      "0 0 0 0 0 0 0 0 0 0 \n",
      "0 0 0 0 0 0 1 1 1 0 \n",
      "0 0 0 0 0 0 1 . 1 0 \n",
      "0 0 0 0 0 0 1 1 1 0 \n",
      "0 0 1 1 1 0 0 0 0 0 \n",
      "0 0 1 . 1 0 0 0 0 0 \n",
      "0 0 1 1 1 0 0 0 0 0 \n",
      "0 0 0 0 0 0 0 0 0 0 \n",
      "0 1 1 2 1 1 0 0 0 0 \n",
      "0 1 . . . 1 1 1 1 0 \n",
      "0 1 1 2 1 2 . . 1 0 \n",
      "0 0 0 0 0 1 . 2 1 0 \n",
      "0 0 0 0 0 1 1 1 0 0 \n",
      "1 1 0 0 0 0 0 0 0 0 \n",
      ". 1 0 0 0 0 0 0 0 0 \n",
      "1 1 0 0 0 0 0 0 0 0 \n",
      "0 1 1 1 0 0 0 0 1 1 \n",
      "0 1 . 1 0 1 1 1 1 . \n",
      "0 1 1 1 0 1 . . . . \n",
      "0 0 0 0 0 1 . . . . \n"
     ]
    },
    {
     "data": {
      "text/plain": [
       "False"
      ]
     },
     "execution_count": 20,
     "metadata": {},
     "output_type": "execute_result"
    }
   ],
   "source": [
    "# 盤面生成\n",
    "game = MineSweeper(20, 10, 10, False)\n"
   ]
  },
  {
   "cell_type": "code",
   "execution_count": 13,
   "metadata": {},
   "outputs": [
    {
     "name": "stdout",
     "output_type": "stream",
     "text": [
      "((18, 6), (7, 2), (4, 2), (5, 7), (6, 4), (2, 2), (4, 0), (10, 4), (5, 1), (17, 3))\n",
      "0 . . . . . . . . . \n",
      ". . . . . . . . . . \n",
      ". . . . . . . . . . \n",
      ". . . . . . . . . . \n",
      ". . . . . . . . . . \n",
      ". . . . . . . . . . \n",
      ". . . . . . . . . . \n",
      ". . . . . . . . . . \n",
      ". . . . . . . . . . \n",
      ". . . . . . . . . . \n",
      ". . . . . . . . . . \n",
      ". . . . . . . . . . \n",
      ". . . . . . . . . . \n",
      ". . . . . . . . . . \n",
      ". . . . . . . . . . \n",
      ". . . . . . . . . . \n",
      ". . . . . . . . . . \n",
      ". . . . . . . . . . \n",
      ". . . . . . . . . . \n",
      ". . . . . . . . . . \n"
     ]
    }
   ],
   "source": []
  }
 ],
 "metadata": {
  "kernelspec": {
   "display_name": "Python 3",
   "language": "python",
   "name": "python3"
  },
  "language_info": {
   "codemirror_mode": {
    "name": "ipython",
    "version": 3
   },
   "file_extension": ".py",
   "mimetype": "text/x-python",
   "name": "python",
   "nbconvert_exporter": "python",
   "pygments_lexer": "ipython3",
   "version": "3.8.8"
  },
  "orig_nbformat": 4
 },
 "nbformat": 4,
 "nbformat_minor": 2
}
